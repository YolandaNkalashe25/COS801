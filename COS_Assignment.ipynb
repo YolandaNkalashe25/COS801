{
  "nbformat": 4,
  "nbformat_minor": 0,
  "metadata": {
    "colab": {
      "name": "COS Assignment",
      "provenance": [],
      "collapsed_sections": [],
      "include_colab_link": true
    },
    "kernelspec": {
      "name": "python3",
      "display_name": "Python 3"
    },
    "accelerator": "GPU"
  },
  "cells": [
    {
      "cell_type": "markdown",
      "metadata": {
        "id": "view-in-github",
        "colab_type": "text"
      },
      "source": [
        "<a href=\"https://colab.research.google.com/github/YolandaNkalashe25/COS801/blob/main/COS_Assignment.ipynb\" target=\"_parent\"><img src=\"https://colab.research.google.com/assets/colab-badge.svg\" alt=\"Open In Colab\"/></a>"
      ]
    },
    {
      "cell_type": "code",
      "metadata": {
        "id": "wf7F_GOa9qQO"
      },
      "source": [
        "!pip3 install torch torchvision\n",
        "import torch\n",
        "import pandas as pd\n",
        "from sklearn import preprocessing\n",
        "from sklearn.model_selection import train_test_split\n"
      ],
      "execution_count": null,
      "outputs": []
    },
    {
      "cell_type": "code",
      "metadata": {
        "id": "NZO7ujWsQ8dA"
      },
      "source": [
        "import numpy as np\n",
        "from torch import nn, optim\n",
        "import torch.nn.functional as F"
      ],
      "execution_count": 2,
      "outputs": []
    },
    {
      "cell_type": "code",
      "metadata": {
        "id": "Ynk1FUKalYs9"
      },
      "source": [
        "Fashion_MNIST_DF=pd.read_csv('/content/drive/My Drive/Colab Notebooks/COS801/fashion-mnist_train.csv')"
      ],
      "execution_count": null,
      "outputs": []
    },
    {
      "cell_type": "code",
      "metadata": {
        "id": "uZIeqdVkoXxd"
      },
      "source": [
        "Fashion_MNIST_DF.head()\n"
      ],
      "execution_count": null,
      "outputs": []
    },
    {
      "cell_type": "code",
      "metadata": {
        "id": "TvM1Suxjq7xK"
      },
      "source": [
        "col=Fashion_MNIST_DF.columns"
      ],
      "execution_count": null,
      "outputs": []
    },
    {
      "cell_type": "code",
      "metadata": {
        "id": "dA0rmPolQogZ"
      },
      "source": [
        "Fashion_MNIST_DF=Fashion_MNIST_DF.replace('?',np.nan)"
      ],
      "execution_count": null,
      "outputs": []
    },
    {
      "cell_type": "code",
      "metadata": {
        "id": "muCGsWATRIrt"
      },
      "source": [
        "Fashion_MNIST_DF=Fashion_MNIST_DF.dropna()"
      ],
      "execution_count": null,
      "outputs": []
    },
    {
      "cell_type": "code",
      "metadata": {
        "id": "UCEgRvM1RczA"
      },
      "source": [
        "import seaborn as sns\n",
        "sns.countplot(Fashion_MNIST_DF.label)"
      ],
      "execution_count": null,
      "outputs": []
    },
    {
      "cell_type": "code",
      "metadata": {
        "id": "lqBFP5pEsOgH"
      },
      "source": [
        "df_features=Fashion_MNIST_DF[col[1:]]\n",
        "df_target=Fashion_MNIST_DF[col[0]]"
      ],
      "execution_count": null,
      "outputs": []
    },
    {
      "cell_type": "code",
      "metadata": {
        "id": "2V_VUV7yojzv"
      },
      "source": [
        "#standardize the value.\n",
        "x=df_features.values\n",
        "min_max_scaler = preprocessing.MinMaxScaler()\n",
        "x_scaled = min_max_scaler.fit_transform(x)\n",
        "df_features= pd.DataFrame(x_scaled)\n"
      ],
      "execution_count": null,
      "outputs": []
    },
    {
      "cell_type": "code",
      "metadata": {
        "id": "SgNLvJLprSqh"
      },
      "source": [
        "df_features.columns=col[1:]"
      ],
      "execution_count": null,
      "outputs": []
    },
    {
      "cell_type": "code",
      "metadata": {
        "id": "FRAve59irc3K"
      },
      "source": [
        "df_features.head()"
      ],
      "execution_count": null,
      "outputs": []
    },
    {
      "cell_type": "code",
      "metadata": {
        "id": "UR5blpPwvLQD"
      },
      "source": [
        "# Split data into training and validation set.\n",
        "X_train, x_val, Y_train, y_val=train_test_split(df_features,df_target,test_size=0.2,random_state=7)"
      ],
      "execution_count": null,
      "outputs": []
    },
    {
      "cell_type": "code",
      "metadata": {
        "id": "2lbxHYfYThFE"
      },
      "source": [
        "X_train = torch.from_numpy(X_train.to_numpy()).float()\n",
        "Y_train = torch.squeeze(torch.from_numpy(Y_train.to_numpy()).float())\n",
        "x_val = torch.from_numpy(x_val.to_numpy()).float()\n",
        "y_val = torch.squeeze(torch.from_numpy(y_val.to_numpy()).float())\n"
      ],
      "execution_count": null,
      "outputs": []
    },
    {
      "cell_type": "code",
      "metadata": {
        "id": "ctMGyMh6UEtI"
      },
      "source": [
        "print(X_train.shape, Y_train.shape)\n",
        "print(x_val.shape, y_val.shape)"
      ],
      "execution_count": null,
      "outputs": []
    },
    {
      "cell_type": "code",
      "metadata": {
        "id": "O6rXiJ1RrwVq"
      },
      "source": [
        "input_features=784\n",
        "output_size=10\n",
        "hidden_size=0"
      ],
      "execution_count": null,
      "outputs": []
    },
    {
      "cell_type": "code",
      "metadata": {
        "id": "7XIahZEUXU7s"
      },
      "source": [
        "class Net(nn.Module):\n",
        "\n",
        "  def __init__(self):\n",
        "    super(Net, self).__init__()\n",
        "    self.fc1 = nn.Linear(input_features, output_size)\n",
        "\n",
        "  def forward(self, x):\n",
        "    x = F.log_softmax(self.fc1(x),dim=1)\n",
        "    return x"
      ],
      "execution_count": null,
      "outputs": []
    },
    {
      "cell_type": "code",
      "metadata": {
        "id": "UWmAIye9tkxZ"
      },
      "source": [
        "model=Net()"
      ],
      "execution_count": null,
      "outputs": []
    },
    {
      "cell_type": "code",
      "metadata": {
        "id": "jBTF_vQuz9Jk"
      },
      "source": [
        "Y_train=Y_train.type(torch.LongTensor)\n",
        "y_val=y_val.type(torch.LongTensor)"
      ],
      "execution_count": null,
      "outputs": []
    },
    {
      "cell_type": "code",
      "metadata": {
        "id": "3YfPVGJQt0ET"
      },
      "source": [
        "#Optimizer to update the weights during backpropagation use stochatic gradient descent optimizer. We instantiate with our model parameters\n",
        "optimizer = optim.SGD(model.parameters(),lr=0.01)\n",
        "\n",
        "Loss_fn=nn.NLLLoss()\n"
      ],
      "execution_count": null,
      "outputs": []
    },
    {
      "cell_type": "code",
      "metadata": {
        "id": "mbsZK3zazbc7"
      },
      "source": [
        "ephoch_data=[]\n",
        "ephoc=10001\n",
        "batch_size=50"
      ],
      "execution_count": null,
      "outputs": []
    },
    {
      "cell_type": "code",
      "metadata": {
        "id": "qIE3ftFd2SQd"
      },
      "source": [
        "import tensorflow as tf"
      ],
      "execution_count": null,
      "outputs": []
    },
    {
      "cell_type": "code",
      "metadata": {
        "id": "d0kSvOpP1Uh9"
      },
      "source": [
        "y_val.size()[0]"
      ],
      "execution_count": null,
      "outputs": []
    },
    {
      "cell_type": "code",
      "metadata": {
        "id": "MPv97xTvN44x",
        "outputId": "c955d3a3-6eb0-4a6b-9536-e6eedc53b14a",
        "colab": {
          "base_uri": "https://localhost:8080/",
          "height": 229
        }
      },
      "source": [
        "class FashionMnist(Dataset):\n",
        "\n",
        "  def __init__(self):\n",
        "    #data loading\n",
        "    xy=np.loadtxt('/content/drive/My Drive/Colab Notebooks/COS801/fashion-mnist_train.csv',skiprows=1)\n",
        "    self.x=torch.from_numpy(xy[:, 1:])\n",
        "    sef.y=torch.from_numpy(xy[:,[0]])\n",
        "    self.n_samples = xy.shape[0]\n",
        "\n",
        "  def __getitem__(self,index):\n",
        "    return self.x[index], self.y[index]\n",
        "\n",
        "  def __len__(self):\n",
        "    return self.n_samples\n",
        "\n",
        "dataset=FashionMnist()\n",
        "first_data = dataset[0]\n",
        "features, labels = first_data\n",
        "print(features, labels)\n"
      ],
      "execution_count": 11,
      "outputs": [
        {
          "output_type": "error",
          "ename": "NameError",
          "evalue": "ignored",
          "traceback": [
            "\u001b[0;31m---------------------------------------------------------------------------\u001b[0m",
            "\u001b[0;31mNameError\u001b[0m                                 Traceback (most recent call last)",
            "\u001b[0;32m<ipython-input-11-ccf3613b5bd3>\u001b[0m in \u001b[0;36m<module>\u001b[0;34m()\u001b[0m\n\u001b[0;32m----> 1\u001b[0;31m \u001b[0;32mclass\u001b[0m \u001b[0mFashionMnist\u001b[0m\u001b[0;34m(\u001b[0m\u001b[0mDataset\u001b[0m\u001b[0;34m)\u001b[0m\u001b[0;34m:\u001b[0m\u001b[0;34m\u001b[0m\u001b[0;34m\u001b[0m\u001b[0m\n\u001b[0m\u001b[1;32m      2\u001b[0m \u001b[0;34m\u001b[0m\u001b[0m\n\u001b[1;32m      3\u001b[0m   \u001b[0;32mdef\u001b[0m \u001b[0m__init__\u001b[0m\u001b[0;34m(\u001b[0m\u001b[0mself\u001b[0m\u001b[0;34m)\u001b[0m\u001b[0;34m:\u001b[0m\u001b[0;34m\u001b[0m\u001b[0;34m\u001b[0m\u001b[0m\n\u001b[1;32m      4\u001b[0m     \u001b[0;31m#data loading\u001b[0m\u001b[0;34m\u001b[0m\u001b[0;34m\u001b[0m\u001b[0;34m\u001b[0m\u001b[0m\n\u001b[1;32m      5\u001b[0m     \u001b[0mxy\u001b[0m\u001b[0;34m=\u001b[0m\u001b[0mnp\u001b[0m\u001b[0;34m.\u001b[0m\u001b[0mloadtxt\u001b[0m\u001b[0;34m(\u001b[0m\u001b[0;34m'/content/drive/My Drive/Colab Notebooks/COS801/fashion-mnist_train.csv'\u001b[0m\u001b[0;34m,\u001b[0m\u001b[0mskiprows\u001b[0m\u001b[0;34m=\u001b[0m\u001b[0;36m1\u001b[0m\u001b[0;34m)\u001b[0m\u001b[0;34m\u001b[0m\u001b[0;34m\u001b[0m\u001b[0m\n",
            "\u001b[0;31mNameError\u001b[0m: name 'Dataset' is not defined"
          ]
        }
      ]
    },
    {
      "cell_type": "code",
      "metadata": {
        "id": "HGYN7MogQlp5"
      },
      "source": [
        "dataset=MNISTDataset"
      ],
      "execution_count": null,
      "outputs": []
    },
    {
      "cell_type": "code",
      "metadata": {
        "id": "N9hfZCC8cixE"
      },
      "source": [
        "#Start training for a 1000 ephocs.\n",
        "#for every ephoc we zero out our gradients so that we have fresh gradients:\n",
        "for ephoch in range(1,ephoc):\n",
        "  for i in range(batch_size):\n",
        "    \n",
        "\n",
        "  optimizer.zero_grad()\n",
        "  Ypred=model(X_train)\n",
        "\n",
        "  #We then perform a backward pass.The model only has a function for a forward pass.\n",
        "\n",
        "  loss=Loss_fn(Ypred, Y_train)\n",
        "  loss.backward()  ## Calculate the gradients once loss has been calculated.\n",
        "\n",
        "  #Once gradients are calculated we need to update our parameters:\n",
        "\n",
        "  optimizer.step()\n",
        "\n",
        "  ##For every ephoc we calculate the loss on the validation set to see how our data performs on the validation set:\n",
        "  Ypred_validation=model(x_val)\n",
        "  loss_validation=Loss_fn(Ypred_validation, y_val)\n",
        "  # we do not call the backward function when testing on our validation set because we do not use this loss value to update the weights.\n",
        "\n",
        "  _,pred=Ypred_validation.data.max(1) # Our prediction is the value with the highest probabilty\n",
        "\n",
        "  #For every ephoch we print out the accuracy of the validation set and the loss.\n",
        "  accuracy =pred.eq(y_val.data).sum().item()/y_val.size()[0]\n",
        "  ephoch_data.append([ephoch,loss.data.item(),loss_validation.data.item(),accuracy])\n",
        "  \n",
        "  #for every 100 ephocs print out the data to screen\n",
        "\n",
        "  if ephoch % 100==0:\n",
        "    print('ephoc- %d (%d%%) train loss - %.2f validation loss - %.2f accuracy - %.4f'\\\n",
        "             % (ephoch, ephoch/150 * 10, loss.data.item(),loss_validation.data.item(),accuracy))\n"
      ],
      "execution_count": null,
      "outputs": []
    },
    {
      "cell_type": "code",
      "metadata": {
        "id": "Bojd7G8aF3vN"
      },
      "source": [
        "import torch\n",
        "import torchvision\n",
        "from torchvision import transforms, datasets\n",
        "\n",
        "import torch.nn as nn\n",
        "import torch.nn.functional as F\n",
        "import torch.optim as optim"
      ],
      "execution_count": null,
      "outputs": []
    },
    {
      "cell_type": "code",
      "metadata": {
        "id": "ZnxzGW2cF6h9"
      },
      "source": [
        "Fashion_MNIST_DF=pd.read_csv('/content/drive/My Drive/Colab Notebooks/COS801/fashion-mnist_train.csv')"
      ],
      "execution_count": null,
      "outputs": []
    },
    {
      "cell_type": "code",
      "metadata": {
        "id": "z20LnvLaG7YB",
        "outputId": "98b72efe-a478-4fd8-e927-93db5845d59f",
        "colab": {
          "base_uri": "https://localhost:8080/",
          "height": 34
        }
      },
      "source": [
        "Fashion_MNIST_DF.shape"
      ],
      "execution_count": null,
      "outputs": [
        {
          "output_type": "execute_result",
          "data": {
            "text/plain": [
              "(60000, 785)"
            ]
          },
          "metadata": {
            "tags": []
          },
          "execution_count": 6
        }
      ]
    },
    {
      "cell_type": "code",
      "metadata": {
        "id": "eC7d-X_XGKOA"
      },
      "source": [
        "trainset = torch.utils.data.DataLoader(Fashion_MNIST_DF, batch_size=50, shuffle=True, num_workers=2)\n"
      ],
      "execution_count": null,
      "outputs": []
    },
    {
      "cell_type": "code",
      "metadata": {
        "id": "0H9tHeB2GnnY",
        "outputId": "f84278f7-3b25-453b-f32e-112044c7e089",
        "colab": {
          "base_uri": "https://localhost:8080/",
          "height": 34
        }
      },
      "source": [
        "trainset.dataset.shape"
      ],
      "execution_count": null,
      "outputs": [
        {
          "output_type": "execute_result",
          "data": {
            "text/plain": [
              "(60000, 785)"
            ]
          },
          "metadata": {
            "tags": []
          },
          "execution_count": 8
        }
      ]
    },
    {
      "cell_type": "code",
      "metadata": {
        "id": "UtQsfsfUIAqk",
        "outputId": "461bf656-d5c6-4fa5-c1b5-d234161bf8e6",
        "colab": {
          "base_uri": "https://localhost:8080/",
          "height": 218
        }
      },
      "source": [
        "trainset.dataset['label']\n"
      ],
      "execution_count": null,
      "outputs": [
        {
          "output_type": "execute_result",
          "data": {
            "text/plain": [
              "0        2\n",
              "1        9\n",
              "2        6\n",
              "3        0\n",
              "4        3\n",
              "        ..\n",
              "59995    9\n",
              "59996    1\n",
              "59997    8\n",
              "59998    8\n",
              "59999    7\n",
              "Name: label, Length: 60000, dtype: int64"
            ]
          },
          "metadata": {
            "tags": []
          },
          "execution_count": 10
        }
      ]
    }
  ]
}